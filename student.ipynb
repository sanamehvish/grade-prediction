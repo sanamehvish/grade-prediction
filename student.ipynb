{
 "cells": [
  {
   "cell_type": "markdown",
   "id": "f0bd1aa7",
   "metadata": {},
   "source": [
    "# Student Performance Prediction\n",
    "This notebook trains two models:\n",
    "1. Predicts the average score (Regression)\n",
    "2. Predicts the grade (Multiclass Classification)"
   ]
  },
  {
   "cell_type": "code",
   "execution_count": 2,
   "id": "aed08b90",
   "metadata": {},
   "outputs": [
    {
     "name": "stdout",
     "output_type": "stream",
     "text": [
      "Requirement already satisfied: pandas in c:\\users\\sanam\\appdata\\local\\packages\\pythonsoftwarefoundation.python.3.11_qbz5n2kfra8p0\\localcache\\local-packages\\python311\\site-packages (2.2.3)\n",
      "Requirement already satisfied: matplotlib in c:\\users\\sanam\\appdata\\local\\packages\\pythonsoftwarefoundation.python.3.11_qbz5n2kfra8p0\\localcache\\local-packages\\python311\\site-packages (3.10.1)\n",
      "Requirement already satisfied: scikit-learn in c:\\users\\sanam\\appdata\\local\\packages\\pythonsoftwarefoundation.python.3.11_qbz5n2kfra8p0\\localcache\\local-packages\\python311\\site-packages (1.6.1)\n",
      "Requirement already satisfied: numpy>=1.23.2 in c:\\users\\sanam\\appdata\\local\\packages\\pythonsoftwarefoundation.python.3.11_qbz5n2kfra8p0\\localcache\\local-packages\\python311\\site-packages (from pandas) (2.2.3)\n",
      "Requirement already satisfied: python-dateutil>=2.8.2 in c:\\users\\sanam\\appdata\\local\\packages\\pythonsoftwarefoundation.python.3.11_qbz5n2kfra8p0\\localcache\\local-packages\\python311\\site-packages (from pandas) (2.9.0.post0)\n",
      "Requirement already satisfied: pytz>=2020.1 in c:\\users\\sanam\\appdata\\local\\packages\\pythonsoftwarefoundation.python.3.11_qbz5n2kfra8p0\\localcache\\local-packages\\python311\\site-packages (from pandas) (2025.1)\n",
      "Requirement already satisfied: tzdata>=2022.7 in c:\\users\\sanam\\appdata\\local\\packages\\pythonsoftwarefoundation.python.3.11_qbz5n2kfra8p0\\localcache\\local-packages\\python311\\site-packages (from pandas) (2025.1)\n",
      "Requirement already satisfied: contourpy>=1.0.1 in c:\\users\\sanam\\appdata\\local\\packages\\pythonsoftwarefoundation.python.3.11_qbz5n2kfra8p0\\localcache\\local-packages\\python311\\site-packages (from matplotlib) (1.3.1)\n",
      "Requirement already satisfied: cycler>=0.10 in c:\\users\\sanam\\appdata\\local\\packages\\pythonsoftwarefoundation.python.3.11_qbz5n2kfra8p0\\localcache\\local-packages\\python311\\site-packages (from matplotlib) (0.12.1)\n",
      "Requirement already satisfied: fonttools>=4.22.0 in c:\\users\\sanam\\appdata\\local\\packages\\pythonsoftwarefoundation.python.3.11_qbz5n2kfra8p0\\localcache\\local-packages\\python311\\site-packages (from matplotlib) (4.56.0)\n",
      "Requirement already satisfied: kiwisolver>=1.3.1 in c:\\users\\sanam\\appdata\\local\\packages\\pythonsoftwarefoundation.python.3.11_qbz5n2kfra8p0\\localcache\\local-packages\\python311\\site-packages (from matplotlib) (1.4.8)\n",
      "Requirement already satisfied: packaging>=20.0 in c:\\users\\sanam\\appdata\\local\\packages\\pythonsoftwarefoundation.python.3.11_qbz5n2kfra8p0\\localcache\\local-packages\\python311\\site-packages (from matplotlib) (24.2)\n",
      "Requirement already satisfied: pillow>=8 in c:\\users\\sanam\\appdata\\local\\packages\\pythonsoftwarefoundation.python.3.11_qbz5n2kfra8p0\\localcache\\local-packages\\python311\\site-packages (from matplotlib) (11.1.0)\n",
      "Requirement already satisfied: pyparsing>=2.3.1 in c:\\users\\sanam\\appdata\\local\\packages\\pythonsoftwarefoundation.python.3.11_qbz5n2kfra8p0\\localcache\\local-packages\\python311\\site-packages (from matplotlib) (3.2.1)\n",
      "Requirement already satisfied: scipy>=1.6.0 in c:\\users\\sanam\\appdata\\local\\packages\\pythonsoftwarefoundation.python.3.11_qbz5n2kfra8p0\\localcache\\local-packages\\python311\\site-packages (from scikit-learn) (1.15.2)\n",
      "Requirement already satisfied: joblib>=1.2.0 in c:\\users\\sanam\\appdata\\local\\packages\\pythonsoftwarefoundation.python.3.11_qbz5n2kfra8p0\\localcache\\local-packages\\python311\\site-packages (from scikit-learn) (1.4.2)\n",
      "Requirement already satisfied: threadpoolctl>=3.1.0 in c:\\users\\sanam\\appdata\\local\\packages\\pythonsoftwarefoundation.python.3.11_qbz5n2kfra8p0\\localcache\\local-packages\\python311\\site-packages (from scikit-learn) (3.5.0)\n",
      "Requirement already satisfied: six>=1.5 in c:\\users\\sanam\\appdata\\local\\packages\\pythonsoftwarefoundation.python.3.11_qbz5n2kfra8p0\\localcache\\local-packages\\python311\\site-packages (from python-dateutil>=2.8.2->pandas) (1.17.0)\n",
      "Note: you may need to restart the kernel to use updated packages.\n"
     ]
    },
    {
     "name": "stderr",
     "output_type": "stream",
     "text": [
      "\n",
      "[notice] A new release of pip is available: 24.0 -> 25.1.1\n",
      "[notice] To update, run: C:\\Users\\sanam\\AppData\\Local\\Microsoft\\WindowsApps\\PythonSoftwareFoundation.Python.3.11_qbz5n2kfra8p0\\python.exe -m pip install --upgrade pip\n"
     ]
    }
   ],
   "source": [
    "pip install pandas matplotlib scikit-learn "
   ]
  },
  {
   "cell_type": "code",
   "execution_count": 5,
   "id": "50f08091",
   "metadata": {},
   "outputs": [
    {
     "data": {
      "text/html": [
       "<div>\n",
       "<style scoped>\n",
       "    .dataframe tbody tr th:only-of-type {\n",
       "        vertical-align: middle;\n",
       "    }\n",
       "\n",
       "    .dataframe tbody tr th {\n",
       "        vertical-align: top;\n",
       "    }\n",
       "\n",
       "    .dataframe thead th {\n",
       "        text-align: right;\n",
       "    }\n",
       "</style>\n",
       "<table border=\"1\" class=\"dataframe\">\n",
       "  <thead>\n",
       "    <tr style=\"text-align: right;\">\n",
       "      <th></th>\n",
       "      <th>gender</th>\n",
       "      <th>race/ethnicity</th>\n",
       "      <th>parental level of education</th>\n",
       "      <th>lunch</th>\n",
       "      <th>test preparation course</th>\n",
       "      <th>math score</th>\n",
       "      <th>reading score</th>\n",
       "      <th>writing score</th>\n",
       "      <th>average</th>\n",
       "      <th>grade</th>\n",
       "    </tr>\n",
       "  </thead>\n",
       "  <tbody>\n",
       "    <tr>\n",
       "      <th>0</th>\n",
       "      <td>female</td>\n",
       "      <td>group B</td>\n",
       "      <td>high school</td>\n",
       "      <td>standard</td>\n",
       "      <td>none</td>\n",
       "      <td>61</td>\n",
       "      <td>89</td>\n",
       "      <td>64</td>\n",
       "      <td>71.333333</td>\n",
       "      <td>C</td>\n",
       "    </tr>\n",
       "    <tr>\n",
       "      <th>1</th>\n",
       "      <td>male</td>\n",
       "      <td>group B</td>\n",
       "      <td>associate's degree</td>\n",
       "      <td>free/reduced</td>\n",
       "      <td>completed</td>\n",
       "      <td>22</td>\n",
       "      <td>33</td>\n",
       "      <td>85</td>\n",
       "      <td>46.666667</td>\n",
       "      <td>F</td>\n",
       "    </tr>\n",
       "    <tr>\n",
       "      <th>2</th>\n",
       "      <td>female</td>\n",
       "      <td>group D</td>\n",
       "      <td>some college</td>\n",
       "      <td>standard</td>\n",
       "      <td>completed</td>\n",
       "      <td>8</td>\n",
       "      <td>6</td>\n",
       "      <td>16</td>\n",
       "      <td>10.000000</td>\n",
       "      <td>F</td>\n",
       "    </tr>\n",
       "    <tr>\n",
       "      <th>3</th>\n",
       "      <td>female</td>\n",
       "      <td>group B</td>\n",
       "      <td>bachelor's degree</td>\n",
       "      <td>free/reduced</td>\n",
       "      <td>completed</td>\n",
       "      <td>11</td>\n",
       "      <td>67</td>\n",
       "      <td>70</td>\n",
       "      <td>49.333333</td>\n",
       "      <td>F</td>\n",
       "    </tr>\n",
       "    <tr>\n",
       "      <th>4</th>\n",
       "      <td>female</td>\n",
       "      <td>group B</td>\n",
       "      <td>associate's degree</td>\n",
       "      <td>standard</td>\n",
       "      <td>none</td>\n",
       "      <td>0</td>\n",
       "      <td>57</td>\n",
       "      <td>88</td>\n",
       "      <td>48.333333</td>\n",
       "      <td>F</td>\n",
       "    </tr>\n",
       "  </tbody>\n",
       "</table>\n",
       "</div>"
      ],
      "text/plain": [
       "   gender race/ethnicity parental level of education         lunch  \\\n",
       "0  female        group B                 high school      standard   \n",
       "1    male        group B          associate's degree  free/reduced   \n",
       "2  female        group D                some college      standard   \n",
       "3  female        group B           bachelor's degree  free/reduced   \n",
       "4  female        group B          associate's degree      standard   \n",
       "\n",
       "  test preparation course  math score  reading score  writing score  \\\n",
       "0                    none          61             89             64   \n",
       "1               completed          22             33             85   \n",
       "2               completed           8              6             16   \n",
       "3               completed          11             67             70   \n",
       "4                    none           0             57             88   \n",
       "\n",
       "     average grade  \n",
       "0  71.333333     C  \n",
       "1  46.666667     F  \n",
       "2  10.000000     F  \n",
       "3  49.333333     F  \n",
       "4  48.333333     F  "
      ]
     },
     "execution_count": 5,
     "metadata": {},
     "output_type": "execute_result"
    }
   ],
   "source": [
    "import pandas as pd\n",
    "from sklearn.model_selection import train_test_split\n",
    "from sklearn.ensemble import RandomForestRegressor, RandomForestClassifier\n",
    "from sklearn.metrics import mean_absolute_error, accuracy_score, classification_report\n",
    "from sklearn.preprocessing import LabelEncoder\n",
    "\n",
    "# Load the dataset\n",
    "df = pd.read_csv(\"student_performance_expanded.csv\")\n",
    "df.head()"
   ]
  },
  {
   "cell_type": "code",
   "execution_count": 6,
   "id": "e48776ba",
   "metadata": {},
   "outputs": [],
   "source": [
    "# Prepare features and targets\n",
    "X = df.drop(columns=['math score', 'reading score', 'writing score', 'average', 'grade'])\n",
    "y_avg = df['average']\n",
    "y_grade = df['grade']\n",
    "\n",
    "# Encode categorical features\n",
    "X_encoded = X.apply(LabelEncoder().fit_transform)"
   ]
  },
  {
   "cell_type": "code",
   "execution_count": 7,
   "id": "6d9a3b81",
   "metadata": {},
   "outputs": [
    {
     "name": "stdout",
     "output_type": "stream",
     "text": [
      "Mean Absolute Error for Average Score Prediction: 15.28\n"
     ]
    }
   ],
   "source": [
    "# Regression: Predicting average score\n",
    "X_train_avg, X_test_avg, y_train_avg, y_test_avg = train_test_split(X_encoded, y_avg, test_size=0.2, random_state=42)\n",
    "regressor = RandomForestRegressor(n_estimators=100, random_state=42)\n",
    "regressor.fit(X_train_avg, y_train_avg)\n",
    "y_pred_avg = regressor.predict(X_test_avg)\n",
    "mae = mean_absolute_error(y_test_avg, y_pred_avg)\n",
    "print(f\"Mean Absolute Error for Average Score Prediction: {mae:.2f}\")"
   ]
  },
  {
   "cell_type": "code",
   "execution_count": 6,
   "id": "91524712",
   "metadata": {},
   "outputs": [
    {
     "name": "stdout",
     "output_type": "stream",
     "text": [
      "Accuracy for Grade Prediction: 0.70\n",
      "Classification Report:\n",
      "               precision    recall  f1-score   support\n",
      "\n",
      "           C       1.00      0.20      0.33         5\n",
      "           D       0.00      0.00      0.00         1\n",
      "           F       0.72      0.93      0.81        14\n",
      "\n",
      "    accuracy                           0.70        20\n",
      "   macro avg       0.57      0.38      0.38        20\n",
      "weighted avg       0.76      0.70      0.65        20\n",
      "\n"
     ]
    }
   ],
   "source": [
    "# Classification: Predicting grades\n",
    "X_train_grade, X_test_grade, y_train_grade, y_test_grade = train_test_split(X_encoded, y_grade, test_size=0.2, random_state=42)\n",
    "classifier = RandomForestClassifier(n_estimators=100, random_state=42)\n",
    "classifier.fit(X_train_grade, y_train_grade)\n",
    "y_pred_grade = classifier.predict(X_test_grade)\n",
    "accuracy = accuracy_score(y_test_grade, y_pred_grade)\n",
    "print(f\"Accuracy for Grade Prediction: {accuracy:.2f}\")\n",
    "print(\"Classification Report:\\n\", classification_report(y_test_grade, y_pred_grade))"
   ]
  },
  {
   "cell_type": "markdown",
   "id": "085cfe85",
   "metadata": {},
   "source": [
    "## Model Evaluation: Accuracy and Confusion Matrix\n",
    "Below we evaluate the classification model's performance with a confusion matrix."
   ]
  },
  {
   "cell_type": "code",
   "execution_count": 7,
   "id": "e1794511",
   "metadata": {},
   "outputs": [
    {
     "name": "stdout",
     "output_type": "stream",
     "text": [
      "Accuracy for Grade Prediction: 0.70\n",
      "Classification Report:\n",
      "               precision    recall  f1-score   support\n",
      "\n",
      "           C       1.00      0.20      0.33         5\n",
      "           D       0.00      0.00      0.00         1\n",
      "           F       0.72      0.93      0.81        14\n",
      "\n",
      "    accuracy                           0.70        20\n",
      "   macro avg       0.57      0.38      0.38        20\n",
      "weighted avg       0.76      0.70      0.65        20\n",
      "\n"
     ]
    }
   ],
   "source": [
    "# Accuracy and Classification Report\n",
    "print(f\"Accuracy for Grade Prediction: {accuracy:.2f}\")\n",
    "print(\"Classification Report:\\n\", classification_report(y_test_grade, y_pred_grade))"
   ]
  },
  {
   "cell_type": "code",
   "execution_count": 14,
   "id": "8bed314b",
   "metadata": {},
   "outputs": [
    {
     "data": {
      "image/png": "[encoded data removed]",
      "text/plain": [
       "<Figure size 800x600 with 2 Axes>"
      ]
     },
     "metadata": {},
     "output_type": "display_data"
    }
   ],
   "source": [
    "# Confusion Matrix\n",
    "from sklearn.metrics import confusion_matrix\n",
    "import matplotlib.pyplot as plt\n",
    "import seaborn as sns\n",
    "cm = confusion_matrix(y_test_grade, y_pred_grade, labels=classifier.classes_)\n",
    "\n",
    "plt.figure(figsize=(8,6))\n",
    "sns.heatmap(cm, annot=True, fmt='d', cmap='Blues', xticklabels=classifier.classes_, yticklabels=classifier.classes_)\n",
    "plt.xlabel('Predicted')\n",
    "plt.ylabel('Actual')\n",
    "plt.title('Confusion Matrix for Grade Prediction')\n",
    "plt.show()"
   ]
  },
  {
   "cell_type": "markdown",
   "id": "8d0c139a",
   "metadata": {},
   "source": [
    "## Predicting a New Student's Grade and Average Score\n",
    "Enter a new student's details below to predict their expected performance."
   ]
  },
  {
   "cell_type": "code",
   "execution_count": 16,
   "id": "457a8d38",
   "metadata": {},
   "outputs": [],
   "source": [
    "# Example student input\n",
    "new_student = {\n",
    "    'gender': 'female',\n",
    "    'race/ethnicity': 'group C',\n",
    "    'parental level of education': \"bachelor's degree\",\n",
    "    'lunch': 'standard',\n",
    "    'test preparation course': 'completed'\n",
    "}"
   ]
  },
  {
   "cell_type": "code",
   "execution_count": 17,
   "id": "b2f1e874",
   "metadata": {},
   "outputs": [],
   "source": [
    "# Convert to DataFrame and encode\n",
    "new_df = pd.DataFrame([new_student])\n",
    "\n",
    "# Encode using the same logic as training\n",
    "for col in new_df.columns:\n",
    "    le = LabelEncoder()\n",
    "    le.fit(df[col])  # Use training data to fit encoder\n",
    "    new_df[col] = le.transform(new_df[col])"
   ]
  },
  {
   "cell_type": "code",
   "execution_count": 18,
   "id": "a8f711a7",
   "metadata": {},
   "outputs": [
    {
     "name": "stdout",
     "output_type": "stream",
     "text": [
      "Predicted Average Score: 31.74\n",
      "Predicted Grade: F\n"
     ]
    }
   ],
   "source": [
    "# Predict average score and grade\n",
    "predicted_avg = regressor.predict(new_df)\n",
    "predicted_grade = classifier.predict(new_df)\n",
    "\n",
    "print(f\"Predicted Average Score: {predicted_avg[0]:.2f}\")\n",
    "print(f\"Predicted Grade: {predicted_grade[0]}\")"
   ]
  }
 ],
 "metadata": {
  "kernelspec": {
   "display_name": "Python 3",
   "language": "python",
   "name": "python3"
  },
  "language_info": {
   "codemirror_mode": {
    "name": "ipython",
    "version": 3
   },
   "file_extension": ".py",
   "mimetype": "text/x-python",
   "name": "python",
   "nbconvert_exporter": "python",
   "pygments_lexer": "ipython3",
   "version": "3.11.9"
  }
 },
 "nbformat": 4,
 "nbformat_minor": 5
}
